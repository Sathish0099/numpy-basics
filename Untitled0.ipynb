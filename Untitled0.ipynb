{
  "nbformat": 4,
  "nbformat_minor": 0,
  "metadata": {
    "colab": {
      "provenance": [],
      "authorship_tag": "ABX9TyO29c1L8oIB8VmpcF0cD8JH",
      "include_colab_link": true
    },
    "kernelspec": {
      "name": "python3",
      "display_name": "Python 3"
    },
    "language_info": {
      "name": "python"
    }
  },
  "cells": [
    {
      "cell_type": "markdown",
      "metadata": {
        "id": "view-in-github",
        "colab_type": "text"
      },
      "source": [
        "<a href=\"https://colab.research.google.com/github/Sathish0099/numpy-basics/blob/main/Untitled0.ipynb\" target=\"_parent\"><img src=\"https://colab.research.google.com/assets/colab-badge.svg\" alt=\"Open In Colab\"/></a>"
      ]
    },
    {
      "cell_type": "code",
      "execution_count": null,
      "metadata": {
        "id": "h_ojuRN4PN-z"
      },
      "outputs": [],
      "source": []
    },
    {
      "cell_type": "code",
      "source": [],
      "metadata": {
        "id": "k66fzfOPPdvC"
      },
      "execution_count": null,
      "outputs": []
    },
    {
      "cell_type": "code",
      "source": [
        "import numpy as np\n",
        "from scipy.io import loadmat\n",
        "from matplotlib import pyplot as plt"
      ],
      "metadata": {
        "id": "1lc9fQvKQxiR"
      },
      "execution_count": 16,
      "outputs": []
    },
    {
      "cell_type": "code",
      "source": [
        "data=loadmat(\"/ex8data1.mat\")\n",
        "X=data['X']\n",
        "Xval=data[ 'Xval']\n",
        "Yval=data['yval']"
      ],
      "metadata": {
        "id": "w9Bh4iH5ROAb"
      },
      "execution_count": 10,
      "outputs": []
    },
    {
      "cell_type": "code",
      "source": [
        "X.shape"
      ],
      "metadata": {
        "colab": {
          "base_uri": "https://localhost:8080/"
        },
        "id": "qnueHhX0SM9a",
        "outputId": "defbfef6-c014-42c0-ffc9-fb46e7d877cb"
      },
      "execution_count": 12,
      "outputs": [
        {
          "output_type": "execute_result",
          "data": {
            "text/plain": [
              "(307, 2)"
            ]
          },
          "metadata": {},
          "execution_count": 12
        }
      ]
    },
    {
      "cell_type": "code",
      "source": [
        "Xval.shape"
      ],
      "metadata": {
        "colab": {
          "base_uri": "https://localhost:8080/"
        },
        "id": "ns3ts0OESQwm",
        "outputId": "999acc79-ec9c-4a6d-9691-744472fabe9c"
      },
      "execution_count": 13,
      "outputs": [
        {
          "output_type": "execute_result",
          "data": {
            "text/plain": [
              "(307, 2)"
            ]
          },
          "metadata": {},
          "execution_count": 13
        }
      ]
    },
    {
      "cell_type": "code",
      "source": [
        "Yval.shape"
      ],
      "metadata": {
        "colab": {
          "base_uri": "https://localhost:8080/"
        },
        "id": "CFAivdagSUlQ",
        "outputId": "df5b0f28-2e6d-4cf1-e9c0-114888e07919"
      },
      "execution_count": 14,
      "outputs": [
        {
          "output_type": "execute_result",
          "data": {
            "text/plain": [
              "(307, 1)"
            ]
          },
          "metadata": {},
          "execution_count": 14
        }
      ]
    },
    {
      "cell_type": "code",
      "source": [
        "plt.scatter(X[:,0],X[:,1])"
      ],
      "metadata": {
        "colab": {
          "base_uri": "https://localhost:8080/",
          "height": 447
        },
        "id": "9QMjxh-SSYav",
        "outputId": "d8e519be-93d5-4e0d-e2e6-f41f3191c0a7"
      },
      "execution_count": 17,
      "outputs": [
        {
          "output_type": "execute_result",
          "data": {
            "text/plain": [
              "<matplotlib.collections.PathCollection at 0x7faca4c37610>"
            ]
          },
          "metadata": {},
          "execution_count": 17
        },
        {
          "output_type": "display_data",
          "data": {
            "text/plain": [
              "<Figure size 640x480 with 1 Axes>"
            ],
            "image/png": "[encoded data removed]"
          },
          "metadata": {}
        }
      ]
    },
    {
      "cell_type": "code",
      "source": [
        "mu=X.mean(axis=0)\n",
        "sigma=X.var(axis=0)\n",
        "mu,sigma"
      ],
      "metadata": {
        "colab": {
          "base_uri": "https://localhost:8080/"
        },
        "id": "E1aY3B_WSiof",
        "outputId": "0d0ec12c-b4d9-41ec-df2d-aa36d9c8029b"
      },
      "execution_count": 18,
      "outputs": [
        {
          "output_type": "execute_result",
          "data": {
            "text/plain": [
              "(array([14.11222578, 14.99771051]), array([1.83263141, 1.70974533]))"
            ]
          },
          "metadata": {},
          "execution_count": 18
        }
      ]
    },
    {
      "cell_type": "code",
      "source": [
        "X"
      ],
      "metadata": {
        "colab": {
          "base_uri": "https://localhost:8080/"
        },
        "id": "N3ndwvRPSmp2",
        "outputId": "041fc6fe-08eb-40ce-c036-46cd2456ead1"
      },
      "execution_count": 19,
      "outputs": [
        {
          "output_type": "execute_result",
          "data": {
            "text/plain": [
              "array([[13.04681517, 14.74115241],\n",
              "       [13.40852019, 13.7632696 ],\n",
              "       [14.19591481, 15.85318113],\n",
              "       [14.91470077, 16.17425987],\n",
              "       [13.57669961, 14.04284944],\n",
              "       [13.92240251, 13.40646894],\n",
              "       [12.82213164, 14.22318782],\n",
              "       [15.67636615, 15.89169137],\n",
              "       [16.16287532, 16.20299807],\n",
              "       [12.66645095, 14.89908374],\n",
              "       [13.98454962, 12.95800822],\n",
              "       [14.06146043, 14.54908874],\n",
              "       [13.38988671, 15.56202142],\n",
              "       [13.39350475, 15.62698794],\n",
              "       [13.97900926, 13.28061494],\n",
              "       [14.16791259, 14.46583829],\n",
              "       [13.96176145, 14.75182421],\n",
              "       [14.45899735, 15.07018563],\n",
              "       [14.58476372, 15.82743424],\n",
              "       [12.07427074, 13.0671109 ],\n",
              "       [13.5491294 , 15.53827677],\n",
              "       [13.98625042, 14.78776304],\n",
              "       [14.96991942, 16.51830493],\n",
              "       [14.25576597, 15.29427277],\n",
              "       [15.33425   , 16.12469989],\n",
              "       [15.6350487 , 16.49094477],\n",
              "       [13.62081292, 15.45947525],\n",
              "       [14.81548485, 15.33956527],\n",
              "       [14.59318973, 14.61238106],\n",
              "       [14.48906755, 15.64087368],\n",
              "       [15.52704801, 14.63568031],\n",
              "       [13.97506707, 14.76531533],\n",
              "       [12.95364954, 14.82328512],\n",
              "       [12.88787444, 15.0760781 ],\n",
              "       [16.02178961, 16.25746992],\n",
              "       [14.92629271, 16.29725072],\n",
              "       [12.465594  , 14.18321212],\n",
              "       [14.08466278, 14.44192203],\n",
              "       [14.53717523, 14.24224248],\n",
              "       [14.22250852, 15.42386188],\n",
              "       [14.51908496, 13.99871699],\n",
              "       [13.11971434, 14.66081846],\n",
              "       [14.51088894, 15.30465149],\n",
              "       [14.18262426, 15.39388968],\n",
              "       [14.71651845, 15.73369667],\n",
              "       [13.834547  , 16.17138034],\n",
              "       [16.00076179, 14.6923297 ],\n",
              "       [14.12702715, 15.91462775],\n",
              "       [13.84578547, 14.34139349],\n",
              "       [15.4142611 , 16.24243182],\n",
              "       [13.25273727, 15.00861364],\n",
              "       [13.66840226, 14.35886036],\n",
              "       [13.77534774, 14.73808512],\n",
              "       [14.12582343, 14.92980923],\n",
              "       [14.54724604, 15.63339445],\n",
              "       [14.15258077, 14.53622697],\n",
              "       [14.12648161, 15.34467591],\n",
              "       [14.26324658, 14.98556918],\n",
              "       [14.77324332, 15.25299474],\n",
              "       [14.20969934, 16.14572569],\n",
              "       [13.26065515, 15.48016214],\n",
              "       [14.25273351, 15.03134361],\n",
              "       [12.92124447, 13.1932154 ],\n",
              "       [13.85243129, 13.33213111],\n",
              "       [13.968568  , 13.19821237],\n",
              "       [13.25206982, 15.3684639 ],\n",
              "       [13.70449634, 13.21431302],\n",
              "       [14.50874721, 15.46051652],\n",
              "       [15.69042696, 16.48168852],\n",
              "       [12.95598192, 12.43703006],\n",
              "       [13.59312604, 14.84189903],\n",
              "       [15.12874639, 17.14981223],\n",
              "       [14.26705037, 15.67551974],\n",
              "       [15.66145055, 14.81146451],\n",
              "       [14.33962673, 15.49202298],\n",
              "       [14.27617655, 14.70590693],\n",
              "       [14.86049072, 15.59000779],\n",
              "       [14.1041448 , 15.18050456],\n",
              "       [15.98828286, 15.62105187],\n",
              "       [13.47473583, 15.59307142],\n",
              "       [13.77637601, 14.99194427],\n",
              "       [12.82770875, 15.67136907],\n",
              "       [13.67165486, 15.11954159],\n",
              "       [15.38704284, 15.56936935],\n",
              "       [15.54320934, 15.5154315 ],\n",
              "       [13.85306094, 15.60672437],\n",
              "       [13.62525246, 14.45209463],\n",
              "       [15.01577844, 14.91664093],\n",
              "       [13.83645753, 15.24940725],\n",
              "       [14.22694439, 14.34798436],\n",
              "       [13.23742625, 14.61058751],\n",
              "       [13.38482919, 14.7331933 ],\n",
              "       [13.87130103, 14.97399469],\n",
              "       [12.39445847, 14.64448217],\n",
              "       [14.32186558, 14.52890629],\n",
              "       [15.82965092, 15.71619455],\n",
              "       [15.80177302, 16.01808914],\n",
              "       [14.697512  , 14.11198749],\n",
              "       [14.70598657, 16.46040295],\n",
              "       [13.5915686 , 14.91975097],\n",
              "       [12.29984539, 14.77119468],\n",
              "       [13.39904748, 16.11912911],\n",
              "       [15.1311287 , 15.9003113 ],\n",
              "       [15.38581198, 15.71453967],\n",
              "       [15.45487422, 15.44042242],\n",
              "       [13.74951531, 15.26803136],\n",
              "       [15.69914333, 16.05595815],\n",
              "       [14.80580491, 14.33258926],\n",
              "       [15.17222943, 16.70624398],\n",
              "       [11.24915512, 15.13295896],\n",
              "       [13.88773907, 14.48548132],\n",
              "       [15.32587018, 16.58524064],\n",
              "       [12.97517063, 15.16056771],\n",
              "       [14.07427781, 17.21973519],\n",
              "       [14.18202564, 17.83351945],\n",
              "       [12.23970014, 14.72866834],\n",
              "       [14.82555961, 15.94500685],\n",
              "       [13.09763368, 16.230365  ],\n",
              "       [13.85758878, 15.03526838],\n",
              "       [15.52502523, 16.78653608],\n",
              "       [15.31499528, 14.56835428],\n",
              "       [14.03034874, 15.66336188],\n",
              "       [14.42312995, 14.94109335],\n",
              "       [13.63615119, 14.96411634],\n",
              "       [14.53477943, 13.35611764],\n",
              "       [14.61566224, 14.15241035],\n",
              "       [13.08085544, 14.02845941],\n",
              "       [14.93928678, 14.54933746],\n",
              "       [16.02712663, 15.7096583 ],\n",
              "       [14.31925037, 15.11762658],\n",
              "       [14.86153307, 14.28458412],\n",
              "       [14.01432033, 16.77971266],\n",
              "       [13.4076547 , 14.60041191],\n",
              "       [13.07959732, 14.19389917],\n",
              "       [12.68820689, 13.81109597],\n",
              "       [14.19232757, 15.36498179],\n",
              "       [14.86589365, 14.4713879 ],\n",
              "       [13.39350298, 14.34389893],\n",
              "       [13.58659143, 14.39148496],\n",
              "       [13.1021929 , 14.3760326 ],\n",
              "       [14.54176556, 16.37233995],\n",
              "       [14.25602703, 15.0423495 ],\n",
              "       [16.1875476 , 16.36145254],\n",
              "       [13.63292363, 13.62886894],\n",
              "       [14.65349335, 14.97649221],\n",
              "       [12.619118  , 16.77214314],\n",
              "       [13.0342773 , 14.25689091],\n",
              "       [10.85940052, 14.47914434],\n",
              "       [12.93486071, 14.60746678],\n",
              "       [13.99226766, 14.96212808],\n",
              "       [12.57248704, 15.1972735 ],\n",
              "       [15.68266703, 16.22123922],\n",
              "       [13.21258152, 14.35182737],\n",
              "       [13.98975002, 14.5244565 ],\n",
              "       [13.46626641, 13.65765529],\n",
              "       [13.13166385, 15.79882584],\n",
              "       [14.35439255, 15.02329268],\n",
              "       [13.55329411, 13.73218769],\n",
              "       [12.98628429, 14.80983707],\n",
              "       [14.37264883, 14.95148191],\n",
              "       [13.5886905 , 15.19778175],\n",
              "       [12.26002252, 15.61364104],\n",
              "       [13.66602494, 16.44517365],\n",
              "       [14.34554567, 15.44883765],\n",
              "       [14.60667498, 15.77655361],\n",
              "       [14.15369524, 16.57440586],\n",
              "       [14.04899502, 14.39078838],\n",
              "       [14.06857464, 14.62364257],\n",
              "       [15.88890082, 16.33705609],\n",
              "       [13.9760142 , 15.84206443],\n",
              "       [10.88221341, 13.46166188],\n",
              "       [13.90920312, 14.97657577],\n",
              "       [12.36776146, 15.14204982],\n",
              "       [15.16765639, 15.51933857],\n",
              "       [15.33769517, 14.23319145],\n",
              "       [13.5505769 , 15.73044061],\n",
              "       [13.57918657, 15.47264441],\n",
              "       [14.2447909 , 15.08509119],\n",
              "       [15.33086297, 15.71142599],\n",
              "       [15.91714893, 15.15651433],\n",
              "       [13.85421254, 15.32125758],\n",
              "       [14.08736591, 14.30728374],\n",
              "       [12.63610997, 15.65066102],\n",
              "       [14.36282756, 13.87195409],\n",
              "       [14.50066606, 14.61759025],\n",
              "       [13.96984547, 16.17341605],\n",
              "       [15.13133128, 15.28924849],\n",
              "       [15.15300231, 14.0136283 ],\n",
              "       [13.31011939, 14.39060275],\n",
              "       [14.25712173, 14.29705004],\n",
              "       [13.71613135, 13.5273347 ],\n",
              "       [15.70094058, 15.99611429],\n",
              "       [13.38943515, 14.36513423],\n",
              "       [14.14088666, 13.97440554],\n",
              "       [14.8448705 , 14.01695106],\n",
              "       [12.7048959 , 14.27293037],\n",
              "       [14.95353525, 14.73218902],\n",
              "       [14.28114118, 14.61262378],\n",
              "       [13.06799074, 14.83286345],\n",
              "       [13.602797  , 12.20295199],\n",
              "       [12.68816488, 15.81141681],\n",
              "       [13.88291728, 14.1180837 ],\n",
              "       [14.01648222, 14.33509982],\n",
              "       [15.3657655 , 15.82610475],\n",
              "       [13.57764756, 14.88045533],\n",
              "       [13.39189242, 14.34497756],\n",
              "       [13.6936209 , 15.9218994 ],\n",
              "       [12.87853442, 13.2017448 ],\n",
              "       [13.69916365, 15.4180007 ],\n",
              "       [14.01609081, 15.82165925],\n",
              "       [14.58996505, 16.38090675],\n",
              "       [15.00784342, 15.50954334],\n",
              "       [14.05950746, 13.75788684],\n",
              "       [14.46114684, 13.34425721],\n",
              "       [14.64474777, 15.03905866],\n",
              "       [13.85478898, 15.86614261],\n",
              "       [14.28141751, 14.02340696],\n",
              "       [14.93304554, 14.32639552],\n",
              "       [13.76930807, 16.5131053 ],\n",
              "       [13.44404345, 15.07922663],\n",
              "       [14.03179286, 14.40986664],\n",
              "       [13.8194684 , 15.58676798],\n",
              "       [16.50656641, 15.22029747],\n",
              "       [12.20423231, 14.32106065],\n",
              "       [14.88192989, 16.36162231],\n",
              "       [15.16031   , 15.14972042],\n",
              "       [11.78759609, 14.55034169],\n",
              "       [12.88388298, 14.57250348],\n",
              "       [13.62023706, 16.4236925 ],\n",
              "       [14.53049363, 15.44664319],\n",
              "       [12.64616608, 15.10838775],\n",
              "       [15.54763373, 16.43238821],\n",
              "       [14.40076998, 15.21258204],\n",
              "       [15.2105839 , 14.93547994],\n",
              "       [15.0617344 , 15.11740666],\n",
              "       [14.8621459 , 14.70177771],\n",
              "       [15.40451989, 15.34490712],\n",
              "       [13.79430575, 14.68727111],\n",
              "       [14.63390272, 16.30082804],\n",
              "       [12.45687581, 15.54617986],\n",
              "       [13.99759773, 16.73594542],\n",
              "       [12.93253734, 12.62389977],\n",
              "       [13.70345191, 14.71480993],\n",
              "       [13.12395594, 15.44848981],\n",
              "       [13.81691009, 14.09233539],\n",
              "       [13.02489337, 14.25050252],\n",
              "       [14.53425535, 15.76596517],\n",
              "       [13.2518626 , 16.32252319],\n",
              "       [13.23657555, 15.3369661 ],\n",
              "       [12.12971316, 12.66688846],\n",
              "       [14.38088736, 16.03087165],\n",
              "       [15.98239722, 15.52399453],\n",
              "       [13.7510791 , 13.64320738],\n",
              "       [13.35730012, 13.42431786],\n",
              "       [13.0855909 , 14.86775906],\n",
              "       [13.61173302, 14.86806414],\n",
              "       [15.17761737, 14.15354188],\n",
              "       [14.15456589, 15.28746898],\n",
              "       [13.22531906, 13.9598547 ],\n",
              "       [13.94151501, 14.76023193],\n",
              "       [15.39066479, 15.71412823],\n",
              "       [13.17642607, 13.67395694],\n",
              "       [13.38689006, 14.66536822],\n",
              "       [15.15888821, 14.78211271],\n",
              "       [14.55599225, 14.04946256],\n",
              "       [14.62692886, 14.29592015],\n",
              "       [13.28624407, 15.65812607],\n",
              "       [13.81548235, 14.17169431],\n",
              "       [14.31098964, 16.2541906 ],\n",
              "       [13.53597112, 15.77020127],\n",
              "       [14.80103055, 13.8181314 ],\n",
              "       [13.77274486, 14.64955361],\n",
              "       [13.76510157, 15.02311287],\n",
              "       [14.05349836, 13.93946896],\n",
              "       [15.3090539 , 16.04190605],\n",
              "       [13.15523771, 16.92122117],\n",
              "       [12.69940391, 13.99916734],\n",
              "       [14.36799225, 16.75782354],\n",
              "       [13.26325419, 14.09898706],\n",
              "       [11.91253509, 14.61325734],\n",
              "       [13.37000592, 15.18268143],\n",
              "       [15.99450697, 15.45329383],\n",
              "       [14.15764861, 13.77083847],\n",
              "       [14.96982662, 15.59222553],\n",
              "       [14.75068711, 15.46889188],\n",
              "       [13.3302792 , 14.34699591],\n",
              "       [13.05002153, 14.68726189],\n",
              "       [13.77642647, 14.23618564],\n",
              "       [15.17426585, 15.50957491],\n",
              "       [14.21251759, 15.08270517],\n",
              "       [13.82089483, 15.61146316],\n",
              "       [14.12355955, 14.95509754],\n",
              "       [14.54752171, 14.85861945],\n",
              "       [14.09944359, 16.031312  ],\n",
              "       [14.5773018 , 14.25667659],\n",
              "       [14.52331832, 14.23004999],\n",
              "       [14.30044704, 15.26643299],\n",
              "       [14.55839286, 15.48691914],\n",
              "       [14.22494187, 15.86117827],\n",
              "       [12.04029344, 13.3448335 ],\n",
              "       [13.07931049,  9.34787812],\n",
              "       [21.72713402,  4.12623222],\n",
              "       [12.47662882, 14.45936967],\n",
              "       [19.58257277, 10.411619  ],\n",
              "       [23.33986753, 16.29887355],\n",
              "       [18.26118844, 17.978309  ],\n",
              "       [ 4.75261282, 24.35040725]])"
            ]
          },
          "metadata": {},
          "execution_count": 19
        }
      ]
    },
    {
      "cell_type": "code",
      "source": [
        "from scipy import stats\n",
        "p=np.zeros((X.shape[0],X.shape[1])) \n",
        "p[:,0]=stats.norm(mu[0],sigma[0]).pdf(X[:,0])\n",
        "p[:,1]=stats.norm(mu[1],sigma[1]).pdf(X[:,1])\n",
        "pval.shape"
      ],
      "metadata": {
        "colab": {
          "base_uri": "https://localhost:8080/"
        },
        "id": "mucvbEkuSoYu",
        "outputId": "eaa0b6a4-959a-4f8e-e102-94bd5428eec0"
      },
      "execution_count": 22,
      "outputs": [
        {
          "output_type": "execute_result",
          "data": {
            "text/plain": [
              "(307, 2)"
            ]
          },
          "metadata": {},
          "execution_count": 22
        }
      ]
    },
    {
      "cell_type": "code",
      "source": [
        "pval=np.zeros((Xval.shape[0],Xval.shape[1]))\n",
        "pval[:,0]=stats.norm(mu[0],sigma[0]).pdf(Xval[:,0])\n",
        "pval[:,1]=stats.norm(mu[1],sigma[1]).pdf(Xval[:,1])\n",
        "pval.shape"
      ],
      "metadata": {
        "colab": {
          "base_uri": "https://localhost:8080/"
        },
        "id": "Wy3u5acnTDVQ",
        "outputId": "b931d909-66ab-4597-f47d-d1bd7b7209cb"
      },
      "execution_count": 21,
      "outputs": [
        {
          "output_type": "execute_result",
          "data": {
            "text/plain": [
              "(307, 2)"
            ]
          },
          "metadata": {},
          "execution_count": 21
        }
      ]
    },
    {
      "cell_type": "code",
      "source": [
        "def select_threshold(pval,yval):\n",
        "  best_epsilon=0\n",
        "  best_f1=0\n",
        "  f1=0\n",
        "  step=(pval.max()-pval.min())/1000\n",
        "  for epsilon in np.arange(pval.min(),pval.max(),step):\n",
        "    preds=pval<epsilon\n",
        "    tp=np.sum(np.logical_and(preds==1,yval==1)).astype(float)\n",
        "    fp=np.sum(np.logical_and(preds==1,yval==0)).astype(float)\n",
        "    fn=np.sum(np.logical_and(preds==0,yval==1)).astype(float)\n",
        "\n",
        "    precision=tp/(tp+fp)\n",
        "    recall=tp/(tp+fn)\n",
        "    f1=(2*precision*recall)/(precision+recall)\n",
        "\n",
        "    if f1>best_f1:\n",
        "      best_f1=f1\n",
        "      best_epsilon=epsilon\n",
        "\n",
        "  return best_epsilon,best_f1\n",
        "epsilon,f1=select_threshold(pval,Yval)\n",
        "epsilon,f1"
      ],
      "metadata": {
        "colab": {
          "base_uri": "https://localhost:8080/"
        },
        "id": "aeYUFukiTWCu",
        "outputId": "bbeb5dc6-1d3a-4d77-a9f2-af0975ad41c7"
      },
      "execution_count": 32,
      "outputs": [
        {
          "output_type": "stream",
          "name": "stderr",
          "text": [
            "<ipython-input-32-014428827b32>:12: RuntimeWarning: invalid value encountered in double_scalars\n",
            "  precision=tp/(tp+fp)\n"
          ]
        },
        {
          "output_type": "execute_result",
          "data": {
            "text/plain": [
              "(0.009566706005956842, 0.7142857142857143)"
            ]
          },
          "metadata": {},
          "execution_count": 32
        }
      ]
    },
    {
      "cell_type": "code",
      "source": [
        "outliers=np.where(p<epsilon)\n",
        "plt.scatter(X[:,0],X[:,1])\n",
        "plt.scatter(X[outliers[0],0],X[outliers[0],1],color='r',s=70)"
      ],
      "metadata": {
        "colab": {
          "base_uri": "https://localhost:8080/",
          "height": 447
        },
        "id": "LSaxbbYQUWwi",
        "outputId": "94832a58-5aee-4066-d093-a99b58e794ce"
      },
      "execution_count": 40,
      "outputs": [
        {
          "output_type": "execute_result",
          "data": {
            "text/plain": [
              "<matplotlib.collections.PathCollection at 0x7faca192c340>"
            ]
          },
          "metadata": {},
          "execution_count": 40
        },
        {
          "output_type": "display_data",
          "data": {
            "text/plain": [
              "<Figure size 640x480 with 1 Axes>"
            ],
            "image/png": "[encoded data removed]"
          },
          "metadata": {}
        }
      ]
    },
    {
      "cell_type": "code",
      "source": [
        "!pip install SpeechRecognition"
      ],
      "metadata": {
        "colab": {
          "base_uri": "https://localhost:8080/"
        },
        "id": "2k7aGV2SVRFz",
        "outputId": "b081596b-461a-448f-c030-ff2ca058ddc9"
      },
      "execution_count": 34,
      "outputs": [
        {
          "output_type": "stream",
          "name": "stdout",
          "text": [
            "Looking in indexes: https://pypi.org/simple, https://us-python.pkg.dev/colab-wheels/public/simple/\n",
            "Collecting SpeechRecognition\n",
            "  Downloading SpeechRecognition-3.10.0-py2.py3-none-any.whl (32.8 MB)\n",
            "\u001b[2K     \u001b[90m━━━━━━━━━━━━━━━━━━━━━━━━━━━━━━━━━━━━━━━━\u001b[0m \u001b[32m32.8/32.8 MB\u001b[0m \u001b[31m34.3 MB/s\u001b[0m eta \u001b[36m0:00:00\u001b[0m\n",
            "\u001b[?25hRequirement already satisfied: requests>=2.26.0 in /usr/local/lib/python3.9/dist-packages (from SpeechRecognition) (2.27.1)\n",
            "Requirement already satisfied: charset-normalizer~=2.0.0 in /usr/local/lib/python3.9/dist-packages (from requests>=2.26.0->SpeechRecognition) (2.0.12)\n",
            "Requirement already satisfied: certifi>=2017.4.17 in /usr/local/lib/python3.9/dist-packages (from requests>=2.26.0->SpeechRecognition) (2022.12.7)\n",
            "Requirement already satisfied: urllib3<1.27,>=1.21.1 in /usr/local/lib/python3.9/dist-packages (from requests>=2.26.0->SpeechRecognition) (1.26.15)\n",
            "Requirement already satisfied: idna<4,>=2.5 in /usr/local/lib/python3.9/dist-packages (from requests>=2.26.0->SpeechRecognition) (3.4)\n",
            "Installing collected packages: SpeechRecognition\n",
            "Successfully installed SpeechRecognition-3.10.0\n"
          ]
        }
      ]
    },
    {
      "cell_type": "code",
      "source": [
        "import speech_recognition as sr\n",
        "k=sr.Recognizer()\n",
        "a=sr.AudioFile('/ENG_M.wav')\n",
        "with a as source:\n",
        "  audio=k.record(source)\n",
        "  try:\n",
        "    t=k.recognize_google(audio)\n",
        "    print(\"converting audio into text........\")\n",
        "    print(t)\n",
        "  except:\n",
        "    print(\"not recognizing....\")"
      ],
      "metadata": {
        "colab": {
          "base_uri": "https://localhost:8080/"
        },
        "id": "X62S6GkJV6OF",
        "outputId": "705728ba-f71b-4c58-efbd-46ce1fa9c985"
      },
      "execution_count": 42,
      "outputs": [
        {
          "output_type": "stream",
          "name": "stdout",
          "text": [
            "converting audio into text........\n",
            "cancel well on the way for races to Mars on the moon in 1992 by solar sail the rest of Mars is to commemorate Columbus's journey to the new world 500 years ago and the one to the Moon is to promote the use of solar sales in space exploration\n"
          ]
        }
      ]
    },
    {
      "cell_type": "code",
      "source": [
        "with a as source:\n",
        " m=k.record(source,duration=10)\n",
        "k.recognize_google(m) "
      ],
      "metadata": {
        "colab": {
          "base_uri": "https://localhost:8080/",
          "height": 53
        },
        "id": "Lt88cTQ7X5yN",
        "outputId": "db6ae855-b643-419a-98b2-9d057a0c6a2e"
      },
      "execution_count": 44,
      "outputs": [
        {
          "output_type": "execute_result",
          "data": {
            "text/plain": [
              "\"cancel well on the way for races to Mars on the moon in 1992 by solar sail the rest of Mars is to commemorate Columbus's journey\""
            ],
            "application/vnd.google.colaboratory.intrinsic+json": {
              "type": "string"
            }
          },
          "metadata": {},
          "execution_count": 44
        }
      ]
    },
    {
      "cell_type": "code",
      "source": [
        "pip install --upgrade pip"
      ],
      "metadata": {
        "colab": {
          "base_uri": "https://localhost:8080/"
        },
        "id": "eA_mcgF_YhwM",
        "outputId": "9db6a0a7-1236-449d-fe60-817f93c98fda"
      },
      "execution_count": 46,
      "outputs": [
        {
          "output_type": "stream",
          "name": "stdout",
          "text": [
            "Looking in indexes: https://pypi.org/simple, https://us-python.pkg.dev/colab-wheels/public/simple/\n",
            "Requirement already satisfied: pip in /usr/local/lib/python3.9/dist-packages (23.0.1)\n",
            "\u001b[33mWARNING: Running pip as the 'root' user can result in broken permissions and conflicting behaviour with the system package manager. It is recommended to use a virtual environment instead: https://pip.pypa.io/warnings/venv\u001b[0m\u001b[33m\n",
            "\u001b[0m"
          ]
        }
      ]
    },
    {
      "cell_type": "code",
      "source": [
        "pip install sugaroid-chatterbot"
      ],
      "metadata": {
        "colab": {
          "base_uri": "https://localhost:8080/"
        },
        "id": "NjTqinmuYvuU",
        "outputId": "f1a63918-d7a7-4601-9bed-8563a1341f44"
      },
      "execution_count": 47,
      "outputs": [
        {
          "output_type": "stream",
          "name": "stdout",
          "text": [
            "Looking in indexes: https://pypi.org/simple, https://us-python.pkg.dev/colab-wheels/public/simple/\n",
            "Collecting sugaroid-chatterbot\n",
            "  Downloading sugaroid_chatterBot-2.0.0-py2.py3-none-any.whl (63 kB)\n",
            "\u001b[2K     \u001b[90m━━━━━━━━━━━━━━━━━━━━━━━━━━━━━━━━━━━━━━━━\u001b[0m \u001b[32m63.2/63.2 kB\u001b[0m \u001b[31m2.9 MB/s\u001b[0m eta \u001b[36m0:00:00\u001b[0m\n",
            "\u001b[?25hRequirement already satisfied: sqlalchemy in /usr/local/lib/python3.9/dist-packages (from sugaroid-chatterbot) (1.4.47)\n",
            "Requirement already satisfied: nltk in /usr/local/lib/python3.9/dist-packages (from sugaroid-chatterbot) (3.8.1)\n",
            "Collecting python-dateutil<2.8,>=2.7\n",
            "  Downloading python_dateutil-2.7.5-py2.py3-none-any.whl (225 kB)\n",
            "\u001b[2K     \u001b[90m━━━━━━━━━━━━━━━━━━━━━━━━━━━━━━━━━━━━━━\u001b[0m \u001b[32m225.7/225.7 kB\u001b[0m \u001b[31m14.3 MB/s\u001b[0m eta \u001b[36m0:00:00\u001b[0m\n",
            "\u001b[?25hRequirement already satisfied: spacy in /usr/local/lib/python3.9/dist-packages (from sugaroid-chatterbot) (3.5.1)\n",
            "Collecting pint>=0.8.1\n",
            "  Downloading Pint-0.20.1-py3-none-any.whl (269 kB)\n",
            "\u001b[2K     \u001b[90m━━━━━━━━━━━━━━━━━━━━━━━━━━━━━━━━━━━━━━\u001b[0m \u001b[32m269.5/269.5 kB\u001b[0m \u001b[31m24.6 MB/s\u001b[0m eta \u001b[36m0:00:00\u001b[0m\n",
            "\u001b[?25hRequirement already satisfied: pyyaml in /usr/local/lib/python3.9/dist-packages (from sugaroid-chatterbot) (6.0)\n",
            "Requirement already satisfied: pytz in /usr/local/lib/python3.9/dist-packages (from sugaroid-chatterbot) (2022.7.1)\n",
            "Collecting mathparse\n",
            "  Downloading mathparse-0.1.2-py3-none-any.whl (7.2 kB)\n",
            "Requirement already satisfied: six>=1.5 in /usr/local/lib/python3.9/dist-packages (from python-dateutil<2.8,>=2.7->sugaroid-chatterbot) (1.16.0)\n",
            "Requirement already satisfied: tqdm in /usr/local/lib/python3.9/dist-packages (from nltk->sugaroid-chatterbot) (4.65.0)\n",
            "Requirement already satisfied: click in /usr/local/lib/python3.9/dist-packages (from nltk->sugaroid-chatterbot) (8.1.3)\n",
            "Requirement already satisfied: joblib in /usr/local/lib/python3.9/dist-packages (from nltk->sugaroid-chatterbot) (1.1.1)\n",
            "Requirement already satisfied: regex>=2021.8.3 in /usr/local/lib/python3.9/dist-packages (from nltk->sugaroid-chatterbot) (2022.10.31)\n",
            "Requirement already satisfied: catalogue<2.1.0,>=2.0.6 in /usr/local/lib/python3.9/dist-packages (from spacy->sugaroid-chatterbot) (2.0.8)\n",
            "Requirement already satisfied: packaging>=20.0 in /usr/local/lib/python3.9/dist-packages (from spacy->sugaroid-chatterbot) (23.0)\n",
            "Requirement already satisfied: thinc<8.2.0,>=8.1.8 in /usr/local/lib/python3.9/dist-packages (from spacy->sugaroid-chatterbot) (8.1.9)\n",
            "Requirement already satisfied: spacy-loggers<2.0.0,>=1.0.0 in /usr/local/lib/python3.9/dist-packages (from spacy->sugaroid-chatterbot) (1.0.4)\n",
            "Requirement already satisfied: pydantic!=1.8,!=1.8.1,<1.11.0,>=1.7.4 in /usr/local/lib/python3.9/dist-packages (from spacy->sugaroid-chatterbot) (1.10.7)\n",
            "Requirement already satisfied: jinja2 in /usr/local/lib/python3.9/dist-packages (from spacy->sugaroid-chatterbot) (3.1.2)\n",
            "Requirement already satisfied: preshed<3.1.0,>=3.0.2 in /usr/local/lib/python3.9/dist-packages (from spacy->sugaroid-chatterbot) (3.0.8)\n",
            "Requirement already satisfied: cymem<2.1.0,>=2.0.2 in /usr/local/lib/python3.9/dist-packages (from spacy->sugaroid-chatterbot) (2.0.7)\n",
            "Requirement already satisfied: requests<3.0.0,>=2.13.0 in /usr/local/lib/python3.9/dist-packages (from spacy->sugaroid-chatterbot) (2.27.1)\n",
            "Requirement already satisfied: typer<0.8.0,>=0.3.0 in /usr/local/lib/python3.9/dist-packages (from spacy->sugaroid-chatterbot) (0.7.0)\n",
            "Requirement already satisfied: setuptools in /usr/local/lib/python3.9/dist-packages (from spacy->sugaroid-chatterbot) (67.6.1)\n",
            "Requirement already satisfied: murmurhash<1.1.0,>=0.28.0 in /usr/local/lib/python3.9/dist-packages (from spacy->sugaroid-chatterbot) (1.0.9)\n",
            "Requirement already satisfied: numpy>=1.15.0 in /usr/local/lib/python3.9/dist-packages (from spacy->sugaroid-chatterbot) (1.22.4)\n",
            "Requirement already satisfied: wasabi<1.2.0,>=0.9.1 in /usr/local/lib/python3.9/dist-packages (from spacy->sugaroid-chatterbot) (1.1.1)\n",
            "Requirement already satisfied: pathy>=0.10.0 in /usr/local/lib/python3.9/dist-packages (from spacy->sugaroid-chatterbot) (0.10.1)\n",
            "Requirement already satisfied: langcodes<4.0.0,>=3.2.0 in /usr/local/lib/python3.9/dist-packages (from spacy->sugaroid-chatterbot) (3.3.0)\n",
            "Requirement already satisfied: srsly<3.0.0,>=2.4.3 in /usr/local/lib/python3.9/dist-packages (from spacy->sugaroid-chatterbot) (2.4.6)\n",
            "Requirement already satisfied: smart-open<7.0.0,>=5.2.1 in /usr/local/lib/python3.9/dist-packages (from spacy->sugaroid-chatterbot) (6.3.0)\n",
            "Requirement already satisfied: spacy-legacy<3.1.0,>=3.0.11 in /usr/local/lib/python3.9/dist-packages (from spacy->sugaroid-chatterbot) (3.0.12)\n",
            "Requirement already satisfied: greenlet!=0.4.17 in /usr/local/lib/python3.9/dist-packages (from sqlalchemy->sugaroid-chatterbot) (2.0.2)\n",
            "Requirement already satisfied: typing-extensions>=4.2.0 in /usr/local/lib/python3.9/dist-packages (from pydantic!=1.8,!=1.8.1,<1.11.0,>=1.7.4->spacy->sugaroid-chatterbot) (4.5.0)\n",
            "Requirement already satisfied: certifi>=2017.4.17 in /usr/local/lib/python3.9/dist-packages (from requests<3.0.0,>=2.13.0->spacy->sugaroid-chatterbot) (2022.12.7)\n",
            "Requirement already satisfied: idna<4,>=2.5 in /usr/local/lib/python3.9/dist-packages (from requests<3.0.0,>=2.13.0->spacy->sugaroid-chatterbot) (3.4)\n",
            "Requirement already satisfied: urllib3<1.27,>=1.21.1 in /usr/local/lib/python3.9/dist-packages (from requests<3.0.0,>=2.13.0->spacy->sugaroid-chatterbot) (1.26.15)\n",
            "Requirement already satisfied: charset-normalizer~=2.0.0 in /usr/local/lib/python3.9/dist-packages (from requests<3.0.0,>=2.13.0->spacy->sugaroid-chatterbot) (2.0.12)\n",
            "Requirement already satisfied: blis<0.8.0,>=0.7.8 in /usr/local/lib/python3.9/dist-packages (from thinc<8.2.0,>=8.1.8->spacy->sugaroid-chatterbot) (0.7.9)\n",
            "Requirement already satisfied: confection<1.0.0,>=0.0.1 in /usr/local/lib/python3.9/dist-packages (from thinc<8.2.0,>=8.1.8->spacy->sugaroid-chatterbot) (0.0.4)\n",
            "Requirement already satisfied: MarkupSafe>=2.0 in /usr/local/lib/python3.9/dist-packages (from jinja2->spacy->sugaroid-chatterbot) (2.1.2)\n",
            "Installing collected packages: mathparse, python-dateutil, pint, sugaroid-chatterbot\n",
            "  Attempting uninstall: python-dateutil\n",
            "    Found existing installation: python-dateutil 2.8.2\n",
            "    Uninstalling python-dateutil-2.8.2:\n",
            "      Successfully uninstalled python-dateutil-2.8.2\n",
            "\u001b[31mERROR: pip's dependency resolver does not currently take into account all the packages that are installed. This behaviour is the source of the following dependency conflicts.\n",
            "prophet 1.1.2 requires python-dateutil>=2.8.0, but you have python-dateutil 2.7.5 which is incompatible.\n",
            "pandas 1.4.4 requires python-dateutil>=2.8.1, but you have python-dateutil 2.7.5 which is incompatible.\u001b[0m\u001b[31m\n",
            "\u001b[0mSuccessfully installed mathparse-0.1.2 pint-0.20.1 python-dateutil-2.7.5 sugaroid-chatterbot-2.0.0\n",
            "\u001b[33mWARNING: Running pip as the 'root' user can result in broken permissions and conflicting behaviour with the system package manager. It is recommended to use a virtual environment instead: https://pip.pypa.io/warnings/venv\u001b[0m\u001b[33m\n",
            "\u001b[0m"
          ]
        }
      ]
    },
    {
      "cell_type": "code",
      "source": [
        "pip install chatterbot_corpus"
      ],
      "metadata": {
        "colab": {
          "base_uri": "https://localhost:8080/"
        },
        "id": "HcJHIJDkYx9k",
        "outputId": "a5d9ddeb-c4f7-419b-bd0e-c3e87b63a647"
      },
      "execution_count": 49,
      "outputs": [
        {
          "output_type": "stream",
          "name": "stdout",
          "text": [
            "Looking in indexes: https://pypi.org/simple, https://us-python.pkg.dev/colab-wheels/public/simple/\n",
            "Collecting chatterbot_corpus\n",
            "  Downloading chatterbot_corpus-1.2.0-py2.py3-none-any.whl (117 kB)\n",
            "\u001b[2K     \u001b[90m━━━━━━━━━━━━━━━━━━━━━━━━━━━━━━━━━━━━━━━\u001b[0m \u001b[32m117.3/117.3 kB\u001b[0m \u001b[31m3.4 MB/s\u001b[0m eta \u001b[36m0:00:00\u001b[0m\n",
            "\u001b[?25hCollecting PyYAML<4.0,>=3.12\n",
            "  Downloading PyYAML-3.13.tar.gz (270 kB)\n",
            "\u001b[2K     \u001b[90m━━━━━━━━━━━━━━━━━━━━━━━━━━━━━━━━━━━━━━\u001b[0m \u001b[32m270.6/270.6 kB\u001b[0m \u001b[31m22.1 MB/s\u001b[0m eta \u001b[36m0:00:00\u001b[0m\n",
            "\u001b[?25h  Preparing metadata (setup.py) ... \u001b[?25l\u001b[?25hdone\n",
            "Building wheels for collected packages: PyYAML\n",
            "  Building wheel for PyYAML (setup.py) ... \u001b[?25l\u001b[?25hdone\n",
            "  Created wheel for PyYAML: filename=PyYAML-3.13-cp39-cp39-linux_x86_64.whl size=43098 sha256=7e07ee66dd52b1f1ad279fc5dc9c1345931fd37fa515158860659c77b542429e\n",
            "  Stored in directory: /root/.cache/pip/wheels/81/6e/87/725bed1db7f86e1c7091ef5f4a4f11b0fcf7023c2be4fc29db\n",
            "Successfully built PyYAML\n",
            "Installing collected packages: PyYAML, chatterbot_corpus\n",
            "  Attempting uninstall: PyYAML\n",
            "    Found existing installation: PyYAML 6.0\n",
            "    Uninstalling PyYAML-6.0:\n",
            "      Successfully uninstalled PyYAML-6.0\n",
            "\u001b[31mERROR: pip's dependency resolver does not currently take into account all the packages that are installed. This behaviour is the source of the following dependency conflicts.\n",
            "pandas-profiling 3.2.0 requires PyYAML>=5.0.0, but you have pyyaml 3.13 which is incompatible.\n",
            "flax 0.6.8 requires PyYAML>=5.4.1, but you have pyyaml 3.13 which is incompatible.\n",
            "dask 2022.12.1 requires pyyaml>=5.3.1, but you have pyyaml 3.13 which is incompatible.\u001b[0m\u001b[31m\n",
            "\u001b[0mSuccessfully installed PyYAML-3.13 chatterbot_corpus-1.2.0\n",
            "\u001b[33mWARNING: Running pip as the 'root' user can result in broken permissions and conflicting behaviour with the system package manager. It is recommended to use a virtual environment instead: https://pip.pypa.io/warnings/venv\u001b[0m\u001b[33m\n",
            "\u001b[0m"
          ]
        }
      ]
    },
    {
      "cell_type": "code",
      "source": [
        "from chatterbot.trainers import ChatterBotCorpusTrainer\n",
        "from chatterbot import ChatBot\n"
      ],
      "metadata": {
        "id": "COxZ_moTY6eM"
      },
      "execution_count": 50,
      "outputs": []
    },
    {
      "cell_type": "code",
      "source": [
        "!pip3 install SQLAlchemy==1.3.6"
      ],
      "metadata": {
        "colab": {
          "base_uri": "https://localhost:8080/"
        },
        "id": "7vbp3AeUZO4m",
        "outputId": "d31dfa40-564c-40df-de14-08cbb0104270"
      },
      "execution_count": 51,
      "outputs": [
        {
          "output_type": "stream",
          "name": "stdout",
          "text": [
            "Looking in indexes: https://pypi.org/simple, https://us-python.pkg.dev/colab-wheels/public/simple/\n",
            "Collecting SQLAlchemy==1.3.6\n",
            "  Downloading SQLAlchemy-1.3.6.tar.gz (5.9 MB)\n",
            "\u001b[2K     \u001b[90m━━━━━━━━━━━━━━━━━━━━━━━━━━━━━━━━━━━━━━━━\u001b[0m \u001b[32m5.9/5.9 MB\u001b[0m \u001b[31m36.1 MB/s\u001b[0m eta \u001b[36m0:00:00\u001b[0m\n",
            "\u001b[?25h  Preparing metadata (setup.py) ... \u001b[?25l\u001b[?25hdone\n",
            "Building wheels for collected packages: SQLAlchemy\n",
            "  Building wheel for SQLAlchemy (setup.py) ... \u001b[?25l\u001b[?25hdone\n",
            "  Created wheel for SQLAlchemy: filename=SQLAlchemy-1.3.6-cp39-cp39-linux_x86_64.whl size=1194312 sha256=b54f6b429c0dfc22772234a562169f95a3f30354761cd54d9693b7f28c31bcc5\n",
            "  Stored in directory: /root/.cache/pip/wheels/8e/9c/09/b2f237672110a2abcad719df24bccb9355ee701d50330726c9\n",
            "Successfully built SQLAlchemy\n",
            "Installing collected packages: SQLAlchemy\n",
            "  Attempting uninstall: SQLAlchemy\n",
            "    Found existing installation: SQLAlchemy 1.4.47\n",
            "    Uninstalling SQLAlchemy-1.4.47:\n",
            "      Successfully uninstalled SQLAlchemy-1.4.47\n",
            "Successfully installed SQLAlchemy-1.3.6\n",
            "\u001b[33mWARNING: Running pip as the 'root' user can result in broken permissions and conflicting behaviour with the system package manager. It is recommended to use a virtual environment instead: https://pip.pypa.io/warnings/venv\u001b[0m\u001b[33m\n",
            "\u001b[0m"
          ]
        }
      ]
    },
    {
      "cell_type": "code",
      "source": [
        "chatbot = ChatBot(\"My Bot\")"
      ],
      "metadata": {
        "colab": {
          "base_uri": "https://localhost:8080/"
        },
        "id": "yRuOKbE8ZYNu",
        "outputId": "440d6468-6062-4a38-b491-96189b55ebc7"
      },
      "execution_count": 52,
      "outputs": [
        {
          "output_type": "stream",
          "name": "stderr",
          "text": [
            "/usr/local/lib/python3.9/dist-packages/torch/cuda/__init__.py:497: UserWarning: Can't initialize NVML\n",
            "  warnings.warn(\"Can't initialize NVML\")\n"
          ]
        }
      ]
    },
    {
      "cell_type": "code",
      "source": [
        "bot_trainer = ChatterBotCorpusTrainer(chatbot)\n",
        "bot_trainer.train(\"chatterbot.corpus.english\")\n"
      ],
      "metadata": {
        "colab": {
          "base_uri": "https://localhost:8080/"
        },
        "id": "zLiU3LwJZe--",
        "outputId": "3548a73a-ab75-44bf-dc4a-9e7d513a24cc"
      },
      "execution_count": 53,
      "outputs": [
        {
          "output_type": "stream",
          "name": "stdout",
          "text": [
            "Training ai.yml: [####################] 100%\n",
            "Training botprofile.yml: [####################] 100%\n",
            "Training computers.yml: [####################] 100%\n",
            "Training conversations.yml: [####################] 100%\n",
            "Training emotion.yml: [####################] 100%\n",
            "Training food.yml: [####################] 100%\n",
            "Training gossip.yml: [####################] 100%\n",
            "Training greetings.yml: [####################] 100%\n",
            "Training health.yml: [####################] 100%\n",
            "Training history.yml: [####################] 100%\n",
            "Training humor.yml: [####################] 100%\n",
            "Training literature.yml: [####################] 100%\n",
            "Training money.yml: [####################] 100%\n",
            "Training movies.yml: [####################] 100%\n",
            "Training politics.yml: [####################] 100%\n",
            "Training psychology.yml: [####################] 100%\n",
            "Training science.yml: [####################] 100%\n",
            "Training sports.yml: [####################] 100%\n",
            "Training trivia.yml: [####################] 100%\n"
          ]
        }
      ]
    },
    {
      "cell_type": "code",
      "source": [
        "print(\"enter 'quit' to stop\")\n",
        "while True:\n",
        " user_input = input(\"You: \")\n",
        " if user_input == 'quit':\n",
        "   break\n",
        " print(\"Bot:\", chatbot.get_response(user_input))"
      ],
      "metadata": {
        "colab": {
          "base_uri": "https://localhost:8080/"
        },
        "id": "4aYhSeshZyEH",
        "outputId": "0ee0f2d2-bcd9-4d5a-e651-4a0f9ae7e36b"
      },
      "execution_count": 54,
      "outputs": [
        {
          "name": "stdout",
          "output_type": "stream",
          "text": [
            "enter 'quit' to stop\n",
            "You: bot question emi\n",
            "Bot: I'd prefer to not hurt your feelings.\n",
            "You: i hate u\n",
            "Bot: What makes me sad.\n",
            "You: whats ur age\n",
            "Bot: who wrote the hobbit\n",
            "You: quit\n"
          ]
        }
      ]
    },
    {
      "cell_type": "code",
      "source": [
        "from chatterbot.trainers import ListTrainer\n",
        "small_talk = ['hi there!',\n",
        "  'hi!',\n",
        "  'how do you do?',\n",
        "  'how are you?',\n",
        "  'i am cool.'\n",
        "  'fine, you?',\n",
        "  'always cool.',\n",
        "  'i am ok',\n",
        "  'glad to hear that.',\n",
        "  'i am fine',\n",
        "  'glad to hear that.',\n",
        "  'i feel awesome',\n",
        "  'excellent, glad to hear that.',\n",
        "  'not so good',\n",
        "  'sorry to hear that.',\n",
        "  'what is your name?',\n",
        "  'i am pybot. ask me a math question, please.']\n",
        "math_talk_1 = ['pythagorean theorem',\n",
        "  'a squared plus b squared equals c squared.']\n",
        "math_talk_2 = ['law of cosines',\n",
        "  'c**2 = a**2 + b**2 - 2 * a * b * cos(gamma)']\n",
        "list_trainer = ListTrainer(chatbot)\n",
        "for item in (small_talk, math_talk_1, math_talk_2):\n",
        "  list_trainer.train(item)"
      ],
      "metadata": {
        "colab": {
          "base_uri": "https://localhost:8080/"
        },
        "id": "4AEu1jC5aA4n",
        "outputId": "45437dc9-b578-4def-d567-4fc2ddaff8e3"
      },
      "execution_count": 69,
      "outputs": [
        {
          "output_type": "stream",
          "name": "stdout",
          "text": [
            "List Trainer: [####################] 100%\n",
            "List Trainer: [####################] 100%\n",
            "List Trainer: [####################] 100%\n"
          ]
        }
      ]
    },
    {
      "cell_type": "code",
      "source": [
        "print(\"enter 'quit' to stop\")\n",
        "while True:\n",
        "  text_input = input(\"You: \")\n",
        "  if text_input == 'quit':\n",
        "    break\n",
        "  print(\"Bot:\", chatbot.get_response(text_input))"
      ],
      "metadata": {
        "colab": {
          "base_uri": "https://localhost:8080/"
        },
        "id": "M9ZYLgrabDff",
        "outputId": "6e0c2d1d-cbcd-4e68-f49e-de4682035fcf"
      },
      "execution_count": null,
      "outputs": [
        {
          "output_type": "stream",
          "name": "stdout",
          "text": [
            "enter 'quit' to stop\n"
          ]
        }
      ]
    },
    {
      "cell_type": "code",
      "source": [],
      "metadata": {
        "id": "Xc3mo1U7ct_6"
      },
      "execution_count": null,
      "outputs": []
    }
  ]
}